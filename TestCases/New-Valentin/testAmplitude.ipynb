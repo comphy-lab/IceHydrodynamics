{
 "cells": [
  {
   "cell_type": "markdown",
   "metadata": {},
   "source": [
    "## Read me \n",
    "This notebook contains a script to read and plot the amplitude data for the three codes:\n",
    "1. WavesWater.c\n",
    "2. ViscousOilOnWater.c\n",
    "3. IceOnWaterWaves."
   ]
  },
  {
   "cell_type": "markdown",
   "metadata": {},
   "source": [
    "## Packages and Functions"
   ]
  },
  {
   "cell_type": "code",
   "execution_count": null,
   "metadata": {},
   "outputs": [],
   "source": [
    "#Import relevant packages \n",
    "import numpy as np\n",
    "import pandas as pd\n",
    "import matplotlib.pyplot as plt\n",
    "\n",
    "#Use Latex and serif font\n",
    "plt.rc('text', usetex=True)\n",
    "plt.rc('font', family='serif')\n",
    "\n",
    "#Reads data from a file and separates columns into variables of time and Amplitude\n",
    "def read_extract(dat_file):\n",
    "    df = pd.read_csv(dat_file, sep=' ')\n",
    "    df.head()\n",
    "    nb_col = len(df.columns)\n",
    "    \n",
    "    if (nb_col==2):\n",
    "        t = df.iloc[:, 0].to_numpy()\n",
    "        Amp = df.iloc[:, 1].to_numpy()\n",
    "        A0 = Amp[0]\n",
    "        return A0, t, Amp\n",
    "    \n",
    "    else :\n",
    "        t = df.iloc[:, 0].to_numpy()\n",
    "        AmpOcean = df.iloc[:, 1].to_numpy()\n",
    "        AmpIce = df.iloc[:, 2].to_numpy()\n",
    "        A0_Ocean = AmpOcean[0]\n",
    "        A0_Ice = AmpIce[0]\n",
    "        return A0_Ocean, A0_Ice, t, AmpOcean, AmpIce"
   ]
  },
  {
   "cell_type": "markdown",
   "metadata": {},
   "source": [
    "## Amplitude of single interface problem and comparison with Basilisk code \n",
    "plots the amplitude of an interface between air and ocean, and compares the amplitude with the basilisk code (gravity.c) used to generated the data to make sure we get the same thing"
   ]
  },
  {
   "cell_type": "code",
   "execution_count": null,
   "metadata": {},
   "outputs": [],
   "source": [
    "#Import data from Waterwaves.c and gravity.c\n",
    "A0, t, Amp = read_extract('WavesWater_/amplitude.dat')\n",
    "A0_ref, t_ref, Amp_ref = read_extract('wave-128')\n",
    "\n",
    "#Set plot\n",
    "fig, ax = plt.subplots(1, 1, figsize=(10,5))\n",
    "\n",
    "#Data\n",
    "ax.plot(t, Amp, 'k-', lw=2, label='Data')\n",
    "ax.set_xlabel(r'$\\sqrt{gt^2/\\lambda_w}$', fontsize=15)\n",
    "ax.set_ylabel(r'$A/\\lambda_w$', fontsize=15)\n",
    "ax.tick_params(axis='both', which='major', labelsize=15)\n",
    "#ax.set_xlim([0., 4.0])\n",
    "#ax.set_ylim([0., A0])\n",
    "ax.legend()\n",
    "plt.title(\"Waterwaves.c\")\n",
    "#plt.savefig(\"Amp_w\")\n",
    "plt.show()\n",
    "\n",
    "#Data\n",
    "ax.plot(t_ref, Amp_ref, 'r-', lw=2, label='gravity.c')\n",
    "ax.plot(t, Amp, 'k-', lw=2, label='WavesWater.c')\n",
    "ax.set_xlabel(r'$\\sqrt{gt^2/\\lambda_w}$', fontsize=15)\n",
    "ax.set_ylabel(r'$A/\\lambda_w$', fontsize=20)\n",
    "ax.tick_params(axis='both', which='major', labelsize=15)#\n",
    "ax.set_xlim([0., 4.0])\n",
    "#ax.set_ylim([0., A0])\n",
    "ax.legend()\n",
    "plt.title(\"Comparison between gravity.c and waterwaves.c\")\n",
    "#plt.savefig(\"Comparison_gw\")\n",
    "plt.show()"
   ]
  },
  {
   "cell_type": "markdown",
   "metadata": {},
   "source": [
    "## Testing the height of the viscous oil layer\n",
    "\n",
    "Using code from the water oil, I'm testing if the code by playing with the height of the oil layer."
   ]
  },
  {
   "cell_type": "code",
   "execution_count": null,
   "metadata": {},
   "outputs": [],
   "source": [
    "#Extracts amplitude data from ViscousOilOnWaterWaves.c\n",
    "A0_Ocean, A0_Ice, t, AmpOcean, AmpIce = read_extract('ViscousOilOnWaterWaves_/amplitude.dat')\n",
    "\n",
    "\n",
    "#Plot\n",
    "fig, ax = plt.subplots(1, 1, figsize=(10,5))\n",
    "ax.plot(t, AmpOcean, 'k--', lw=2, label='Ocean layer')\n",
    "ax.plot(t, AmpIce, 'r--', lw=2, label='Ice layer') \n",
    "\n",
    "ax.set_xlabel(r'$\\sqrt{gt^2/\\lambda_w}$', fontsize=15)\n",
    "ax.set_ylabel(r'$A/\\lambda_w$', fontsize=15)\n",
    "ax.tick_params(axis='both', which='major', labelsize=15)\n",
    "ax.set_xlim([0., 10])\n",
    "#ax.set_ylim([0., A0])\n",
    "ax.legend()\n",
    "#plt.savefig(\"Oil layer Amplitude\")\n",
    "plt.show()"
   ]
  },
  {
   "cell_type": "markdown",
   "metadata": {},
   "source": [
    "## Verifying if the ice sheet behaves as an elastic sheet\n",
    " I'm testing to see if the implementation of the elastic modulus is done correctly, to see if the sheet behaves elastically."
   ]
  },
  {
   "cell_type": "code",
   "execution_count": null,
   "metadata": {},
   "outputs": [],
   "source": [
    "#Extracts amplitude data from IceOnWaterWaves.c\n",
    "A0_Ocean, A0_Ice, t, AmpOcean, AmpIce = read_extract('IceOnWaterWaves_/amplitude.dat')\n",
    "\n",
    "\n",
    "#Plot\n",
    "fig, ax = plt.subplots(1, 1, figsize=(10,5))\n",
    "ax.plot(t, AmpOcean, 'k--', lw=2, label='Ocean layer')\n",
    "ax.plot(t, AmpIce, 'r--', lw=2, label='Ice layer') \n",
    "\n",
    "ax.set_xlabel(r'$\\sqrt{gt^2/\\lambda_w}$', fontsize=15)\n",
    "ax.set_ylabel(r'$A/\\lambda_w$', fontsize=15)\n",
    "ax.tick_params(axis='both', which='major', labelsize=15)\n",
    "ax.set_xlim([0., 10])\n",
    "#ax.set_ylim([0., A0])\n",
    "ax.legend()\n",
    "#plt.savefig(\"Oil layer Amplitude\")\n",
    "plt.show()\n",
    "\n",
    "#1. WARNING: CFL must be <= 0.5 for VOF (cfl - 0.5 = 0.00345565), problem with VOF according to code.\n",
    "#2. Determine if elastic implementation idea is faulty or if there is just some silly bug in the code. "
   ]
  },
  {
   "cell_type": "markdown",
   "metadata": {},
   "source": [
    "# Annex"
   ]
  },
  {
   "cell_type": "code",
   "execution_count": null,
   "metadata": {},
   "outputs": [],
   "source": [
    "A0 = 0.1\n",
    "\n",
    "df1 = pd.read_csv('WavesWater/amplitude.dat', sep=' ')\n",
    "df2 = pd.read_csv('ViscousOilOnWaterWaves/amplitude.dat', sep=' ')\n",
    "df3 = pd.read_csv('IceOnWaterWaves/amplitude.dat', sep=' ')\n",
    "\n",
    "fig, ax = plt.subplots(1, 1, figsize=(10,5))\n",
    "\n",
    "t = df1['t']\n",
    "AmpOcean = df1['AmpOcean']\n",
    "ax.plot(t, AmpOcean, 'k-', lw=2, marker='o', markevery=10, label='Ocean wave: Water only')\n",
    "\n",
    "t = df2['t']\n",
    "Amp = df2['AmpOcean']\n",
    "AmpIce = df2['AmpIce']\n",
    "\n",
    "ax.plot(t, Amp, 'r-', lw=2, label='Ocean wave: ocean+oil layer')\n",
    "ax.plot(t, AmpIce, 'r--', lw=2, marker='o', markevery=10, label='Top surface (liquid-air): ocean+oil layer')\n",
    "\n",
    "\n",
    "t = df3['t']\n",
    "Amp = df3['AmpOcean']\n",
    "AmpIce = df3['AmpIce']\n",
    "\n",
    "ax.plot(t, Amp, 'b-', lw=2, label='Ocean wave: ocean+ice layer')\n",
    "ax.plot(t, AmpIce, 'b--', lw=2, marker='o', markevery=10, label='Top surface (liquid-air): ocean+ice layer')\n",
    "\n",
    "\n",
    "ax.set_xlabel(r'$\\sqrt{gt^2/\\lambda_w}$', fontsize=20)\n",
    "ax.set_ylabel(r'$\\zeta/\\lambda_w$', fontsize=20)\n",
    "ax.tick_params(axis='both', which='major', labelsize=15)\n",
    "\n",
    "ax.set_xlim([0., 4.0])\n",
    "ax.set_ylim([0., A0])\n",
    "\n",
    "ax.legend(loc='best', fontsize=15)\n",
    "\n",
    "plt.savefig('amplitude.pdf', bbox_inches='tight')\n",
    "\n",
    "plt.show()"
   ]
  }
 ],
 "metadata": {
  "kernelspec": {
   "display_name": "Python 3 (ipykernel)",
   "language": "python",
   "name": "python3"
  },
  "language_info": {
   "codemirror_mode": {
    "name": "ipython",
    "version": 3
   },
   "file_extension": ".py",
   "mimetype": "text/x-python",
   "name": "python",
   "nbconvert_exporter": "python",
   "pygments_lexer": "ipython3",
   "version": "3.10.13"
  }
 },
 "nbformat": 4,
 "nbformat_minor": 2
}
